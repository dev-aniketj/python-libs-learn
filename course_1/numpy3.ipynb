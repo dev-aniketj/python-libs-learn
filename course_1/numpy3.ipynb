{
 "cells": [
  {
   "cell_type": "code",
   "execution_count": 1,
   "id": "a50adf0f",
   "metadata": {},
   "outputs": [],
   "source": [
    "import numpy as np"
   ]
  },
  {
   "cell_type": "code",
   "execution_count": 6,
   "id": "e37e605f",
   "metadata": {},
   "outputs": [
    {
     "name": "stdout",
     "output_type": "stream",
     "text": [
      "[[1 2 3]\n",
      " [4 5 6]]\n"
     ]
    }
   ],
   "source": [
    "matrix1 = np.array([[1,2,3], [4,5,6]])\n",
    "print(matrix1)"
   ]
  },
  {
   "cell_type": "code",
   "execution_count": 9,
   "id": "3ff21fa3",
   "metadata": {},
   "outputs": [
    {
     "name": "stdout",
     "output_type": "stream",
     "text": [
      "[[2 2 2]\n",
      " [3 4 5]]\n"
     ]
    }
   ],
   "source": [
    "\n",
    "matrix2 = np.array([[2,2,2], [3,4,5]])\n",
    "print(matrix2)"
   ]
  },
  {
   "cell_type": "code",
   "execution_count": 10,
   "id": "21f57088",
   "metadata": {},
   "outputs": [
    {
     "name": "stdout",
     "output_type": "stream",
     "text": [
      "[[ 3  4  5]\n",
      " [ 7  9 11]]\n"
     ]
    }
   ],
   "source": [
    "# addition of two matrix\n",
    "print(matrix1 + matrix2)"
   ]
  },
  {
   "cell_type": "code",
   "execution_count": 11,
   "id": "ac581dc7",
   "metadata": {},
   "outputs": [
    {
     "name": "stdout",
     "output_type": "stream",
     "text": [
      "[[ 1  0 -1]\n",
      " [-1 -1 -1]]\n"
     ]
    }
   ],
   "source": [
    "# subtraction of two matrix\n",
    "print(matrix2 - matrix1)"
   ]
  },
  {
   "cell_type": "code",
   "execution_count": 12,
   "id": "c18af4ea",
   "metadata": {},
   "outputs": [
    {
     "name": "stdout",
     "output_type": "stream",
     "text": [
      "[[ 2  4  6]\n",
      " [12 20 30]]\n"
     ]
    }
   ],
   "source": [
    "# multiplication of two matrix\n",
    "print(matrix1 * matrix2)"
   ]
  },
  {
   "cell_type": "code",
   "execution_count": 15,
   "id": "7812771c",
   "metadata": {},
   "outputs": [
    {
     "name": "stdout",
     "output_type": "stream",
     "text": [
      "[[0 1 1]\n",
      " [1 1 1]]\n"
     ]
    }
   ],
   "source": [
    "# divide of two matrix\n",
    "print(matrix1 // matrix2)"
   ]
  },
  {
   "cell_type": "code",
   "execution_count": 18,
   "id": "5a72619a",
   "metadata": {},
   "outputs": [
    {
     "name": "stdout",
     "output_type": "stream",
     "text": [
      "[[ -1  -4  -9]\n",
      " [ 16  25  36]\n",
      " [-14  -8 -18]]\n"
     ]
    }
   ],
   "source": [
    "mat1 = np.array([[1,2,3], [4,5,6], [7,8,9]])\n",
    "mat2 = np.array([[-1,-2,-3], [4,5,6], [-2,-1,-2]])\n",
    "\n",
    "print(mat1*mat2)"
   ]
  }
 ],
 "metadata": {
  "kernelspec": {
   "display_name": "Python 3 (ipykernel)",
   "language": "python",
   "name": "python3"
  },
  "language_info": {
   "codemirror_mode": {
    "name": "ipython",
    "version": 3
   },
   "file_extension": ".py",
   "mimetype": "text/x-python",
   "name": "python",
   "nbconvert_exporter": "python",
   "pygments_lexer": "ipython3",
   "version": "3.9.12"
  }
 },
 "nbformat": 4,
 "nbformat_minor": 5
}
