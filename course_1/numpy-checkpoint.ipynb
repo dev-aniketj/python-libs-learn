{
 "cells": [
  {
   "cell_type": "code",
   "execution_count": 1,
   "id": "f7aa172c",
   "metadata": {},
   "outputs": [
    {
     "name": "stdout",
     "output_type": "stream",
     "text": [
      "[1 2 3]\n",
      "1\n"
     ]
    }
   ],
   "source": [
    "# 1D array\n",
    "\n",
    "import numpy as np\n",
    "oneDArray = np.array([1,2,3])\n",
    "\n",
    "print(oneDArray)\n",
    "print(oneDArray.ndim)"
   ]
  },
  {
   "cell_type": "code",
   "execution_count": 2,
   "id": "3117600d",
   "metadata": {},
   "outputs": [
    {
     "name": "stdout",
     "output_type": "stream",
     "text": [
      "[[1 2 3]\n",
      " [4 5 6]]\n",
      "2\n"
     ]
    }
   ],
   "source": [
    "# 2D array\n",
    "\n",
    "import numpy as np\n",
    "twoDArray = np.array([[1,2,3], [4,5,6]])\n",
    "\n",
    "print(twoDArray)\n",
    "print(twoDArray.ndim)"
   ]
  },
  {
   "cell_type": "code",
   "execution_count": 4,
   "id": "0f285d8e",
   "metadata": {},
   "outputs": [
    {
     "name": "stdout",
     "output_type": "stream",
     "text": [
      "[[['1' '2' '3']\n",
      "  ['4' '5' '6']]\n",
      "\n",
      " [['7' '8' '9']\n",
      "  ['10' '11' 'a']]]\n",
      "3\n"
     ]
    }
   ],
   "source": [
    "# 3D array\n",
    "\n",
    "import numpy as np\n",
    "threeDArray = np.array([[[1,2,3], [4,5,6]], [[7,8,9], [10,11,'a']]])\n",
    "\n",
    "print(threeDArray)\n",
    "print(threeDArray.ndim)"
   ]
  }
 ],
 "metadata": {
  "kernelspec": {
   "display_name": "Python 3 (ipykernel)",
   "language": "python",
   "name": "python3"
  },
  "language_info": {
   "codemirror_mode": {
    "name": "ipython",
    "version": 3
   },
   "file_extension": ".py",
   "mimetype": "text/x-python",
   "name": "python",
   "nbconvert_exporter": "python",
   "pygments_lexer": "ipython3",
   "version": "3.9.12"
  }
 },
 "nbformat": 4,
 "nbformat_minor": 5
}
