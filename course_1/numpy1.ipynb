{
 "cells": [
  {
   "cell_type": "code",
   "execution_count": 1,
   "id": "f7aa172c",
   "metadata": {},
   "outputs": [
    {
     "name": "stdout",
     "output_type": "stream",
     "text": [
      "[1 2 3]\n",
      "1\n"
     ]
    }
   ],
   "source": [
    "# 1D array\n",
    "\n",
    "import numpy as np\n",
    "oneDArray = np.array([1,2,3])\n",
    "\n",
    "print(oneDArray)\n",
    "print(oneDArray.ndim)"
   ]
  },
  {
   "cell_type": "code",
   "execution_count": 2,
   "id": "3117600d",
   "metadata": {},
   "outputs": [
    {
     "name": "stdout",
     "output_type": "stream",
     "text": [
      "[[1 2 3]\n",
      " [4 5 6]]\n",
      "2\n"
     ]
    }
   ],
   "source": [
    "# 2D array\n",
    "\n",
    "import numpy as np\n",
    "twoDArray = np.array([[1,2,3], [4,5,6]])\n",
    "\n",
    "print(twoDArray)\n",
    "print(twoDArray.ndim)"
   ]
  },
  {
   "cell_type": "code",
   "execution_count": 4,
   "id": "0f285d8e",
   "metadata": {},
   "outputs": [
    {
     "name": "stdout",
     "output_type": "stream",
     "text": [
      "[[['1' '2' '3']\n",
      "  ['4' '5' '6']]\n",
      "\n",
      " [['7' '8' '9']\n",
      "  ['10' '11' 'a']]]\n",
      "3\n"
     ]
    }
   ],
   "source": [
    "# 3D array\n",
    "\n",
    "import numpy as np\n",
    "threeDArray = np.array([[[1,2,3], [4,5,6]], [[7,8,9], [10,11,'a']]])\n",
    "\n",
    "print(threeDArray)\n",
    "print(threeDArray.ndim)"
   ]
  },
  {
   "cell_type": "code",
   "execution_count": 5,
   "id": "8a9629c9",
   "metadata": {
    "scrolled": true
   },
   "outputs": [
    {
     "name": "stdout",
     "output_type": "stream",
     "text": [
      "[1 2 3]\n",
      "6\n"
     ]
    }
   ],
   "source": [
    "import numpy as np\n",
    "\n",
    "twoDArray = np.array([[1,2,3], [4,5,6]])\n",
    "print(twoDArray[0])\n",
    "print(twoDArray[1][2])"
   ]
  },
  {
   "cell_type": "code",
   "execution_count": 18,
   "id": "22bfc021",
   "metadata": {},
   "outputs": [
    {
     "name": "stdout",
     "output_type": "stream",
     "text": [
      "(5, 3)\n"
     ]
    }
   ],
   "source": [
    "import numpy as np\n",
    "\n",
    "twoDArray = np.array([[1,2,3], [4,5,6], [7,8,9], [10,11,12], [13,14,15]])\n",
    "print(twoDArray.shape) # matrix size"
   ]
  },
  {
   "cell_type": "code",
   "execution_count": 14,
   "id": "96192653",
   "metadata": {},
   "outputs": [
    {
     "name": "stdout",
     "output_type": "stream",
     "text": [
      "1\t2\t3\t4\t5\t6\t7\t8\t9\t10\t"
     ]
    }
   ],
   "source": [
    "import numpy as np\n",
    "\n",
    "arr = np.array([1,2,3,4,5,6,7,8,9,10])\n",
    "for i in arr:\n",
    "    print(i, end='\\t')"
   ]
  },
  {
   "cell_type": "code",
   "execution_count": 20,
   "id": "b05a755b",
   "metadata": {},
   "outputs": [
    {
     "name": "stdout",
     "output_type": "stream",
     "text": [
      "1\t2\t3\t\n",
      "4\t5\t6\t\n",
      "7\t8\t9\t\n",
      "10\t11\t12\t\n",
      "13\t14\t15\t\n"
     ]
    }
   ],
   "source": [
    "for i in twoDArray:\n",
    "    for j in i:\n",
    "        print(j, end='\\t')\n",
    "    print()"
   ]
  }
 ],
 "metadata": {
  "kernelspec": {
   "display_name": "Python 3 (ipykernel)",
   "language": "python",
   "name": "python3"
  },
  "language_info": {
   "codemirror_mode": {
    "name": "ipython",
    "version": 3
   },
   "file_extension": ".py",
   "mimetype": "text/x-python",
   "name": "python",
   "nbconvert_exporter": "python",
   "pygments_lexer": "ipython3",
   "version": "3.9.12"
  }
 },
 "nbformat": 4,
 "nbformat_minor": 5
}
