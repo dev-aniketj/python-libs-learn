{
 "cells": [
  {
   "cell_type": "code",
   "execution_count": 4,
   "id": "cc3d73e4",
   "metadata": {},
   "outputs": [],
   "source": [
    "# Detecting Outliers\n",
    "\n",
    "import pandas as pd"
   ]
  },
  {
   "cell_type": "code",
   "execution_count": 5,
   "id": "d6f648cf",
   "metadata": {},
   "outputs": [
    {
     "data": {
      "text/plain": [
       "0    1.043301\n",
       "1    0.907218\n",
       "2    0.771136\n",
       "3    0.498970\n",
       "4    0.226805\n",
       "5    0.045361\n",
       "6    0.317526\n",
       "7    1.134023\n",
       "8    1.950520\n",
       "dtype: float64"
      ]
     },
     "execution_count": 5,
     "metadata": {},
     "output_type": "execute_result"
    }
   ],
   "source": [
    "x = pd.Series([1,2,3,5,7,9,11,17,23])\n",
    "mean = x.mean()\n",
    "std = x.std()\n",
    "z_scores = abs((x-mean)/std)\n",
    "z_scores"
   ]
  },
  {
   "cell_type": "code",
   "execution_count": 7,
   "id": "4f53245d",
   "metadata": {},
   "outputs": [
    {
     "data": {
      "text/plain": [
       "0     1\n",
       "1     2\n",
       "2     3\n",
       "3     5\n",
       "4     7\n",
       "5     9\n",
       "6    11\n",
       "7    17\n",
       "dtype: int64"
      ]
     },
     "execution_count": 7,
     "metadata": {},
     "output_type": "execute_result"
    }
   ],
   "source": [
    "outliers_removed = x[z_scores < 1.5]\n",
    "outliers_removed"
   ]
  }
 ],
 "metadata": {
  "kernelspec": {
   "display_name": "Python 3 (ipykernel)",
   "language": "python",
   "name": "python3"
  },
  "language_info": {
   "codemirror_mode": {
    "name": "ipython",
    "version": 3
   },
   "file_extension": ".py",
   "mimetype": "text/x-python",
   "name": "python",
   "nbconvert_exporter": "python",
   "pygments_lexer": "ipython3",
   "version": "3.9.12"
  }
 },
 "nbformat": 4,
 "nbformat_minor": 5
}
