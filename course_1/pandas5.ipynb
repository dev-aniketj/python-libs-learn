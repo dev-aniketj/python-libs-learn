{
 "cells": [
  {
   "cell_type": "code",
   "execution_count": 5,
   "id": "992930c8",
   "metadata": {},
   "outputs": [
    {
     "name": "stdout",
     "output_type": "stream",
     "text": [
      "[4.5]\n"
     ]
    }
   ],
   "source": [
    "# Median using Pandas Lib\n",
    "\n",
    "import pandas as pd\n",
    "import numpy as np\n",
    "\n",
    "x = pd.Series([2.1, 2.3, 4.5, 2.2, 2.4])\n",
    "med = np.median(x)\n",
    "threshold = 2\n",
    "outliers = []\n",
    "\n",
    "for item in x:\n",
    "    if abs(item-med) > threshold:\n",
    "        outliers.append(item)\n",
    "        \n",
    "print(outliers)"
   ]
  },
  {
   "cell_type": "code",
   "execution_count": 7,
   "id": "cc20a63a",
   "metadata": {},
   "outputs": [
    {
     "name": "stdout",
     "output_type": "stream",
     "text": [
      "[4.5]\n"
     ]
    }
   ],
   "source": [
    "# Mean using Pandas Lib\n",
    "\n",
    "import pandas as pd\n",
    "import numpy as np\n",
    "\n",
    "x = pd.Series([2.1, 2.3, 4.5, 2.2, 2.4])\n",
    "mean = np.mean(x)\n",
    "std = np.std(x)\n",
    "outliers = []\n",
    "\n",
    "for item in x:\n",
    "    if (item<mean-std) or (item>mean + std):\n",
    "        outliers.append(item)\n",
    "        \n",
    "print(outliers)"
   ]
  }
 ],
 "metadata": {
  "kernelspec": {
   "display_name": "Python 3 (ipykernel)",
   "language": "python",
   "name": "python3"
  },
  "language_info": {
   "codemirror_mode": {
    "name": "ipython",
    "version": 3
   },
   "file_extension": ".py",
   "mimetype": "text/x-python",
   "name": "python",
   "nbconvert_exporter": "python",
   "pygments_lexer": "ipython3",
   "version": "3.9.12"
  }
 },
 "nbformat": 4,
 "nbformat_minor": 5
}
